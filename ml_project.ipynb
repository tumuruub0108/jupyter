{
 "cells": [
  {
   "cell_type": "code",
   "execution_count": null,
   "id": "f07b1bb9",
   "metadata": {},
   "outputs": [],
   "source": [
    "14:20"
   ]
  }
 ],
 "metadata": {
  "language_info": {
   "name": "python"
  }
 },
 "nbformat": 4,
 "nbformat_minor": 5
}
